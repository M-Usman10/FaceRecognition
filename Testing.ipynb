{
 "cells": [
  {
   "cell_type": "code",
   "execution_count": 18,
   "metadata": {},
   "outputs": [],
   "source": [
    "import numpy as np\n",
    "import pandas as pd\n",
    "import tensorflow as tf"
   ]
  },
  {
   "cell_type": "markdown",
   "metadata": {},
   "source": [
    "### Loading model and data from hard drive"
   ]
  },
  {
   "cell_type": "code",
   "execution_count": 19,
   "metadata": {},
   "outputs": [
    {
     "name": "stdout",
     "output_type": "stream",
     "text": [
      "(10000, 2583) (10000,)\n"
     ]
    }
   ],
   "source": [
    "X=np.load('final_x.npy')\n",
    "Y=np.load('final_y.npy')\n",
    "w=np.load('Weights.npy')\n",
    "print (X.shape,Y.shape)"
   ]
  },
  {
   "cell_type": "markdown",
   "metadata": {},
   "source": [
    "### Splitting the dataset into train test"
   ]
  },
  {
   "cell_type": "code",
   "execution_count": 20,
   "metadata": {
    "collapsed": true
   },
   "outputs": [],
   "source": [
    "# set seed for numpy and tensorflow\n",
    "# set for reproducible results\n",
    "seed = 5\n",
    "np.random.seed(seed)\n",
    "tf.set_random_seed(seed)"
   ]
  },
  {
   "cell_type": "code",
   "execution_count": 21,
   "metadata": {
    "scrolled": true
   },
   "outputs": [
    {
     "name": "stdout",
     "output_type": "stream",
     "text": [
      "(7000, 2583) (1500, 2583) (1500, 2583) (7000,) (1500,) (1500,)\n"
     ]
    }
   ],
   "source": [
    "def train_test_split(X,Y,test_size):\n",
    "    D=np.c_[X,Y]\n",
    "    np.random.shuffle(D)\n",
    "    Dtrain=D[:int(X.shape[0]*(1-test_size))-int(X.shape[0]*test_size)]\n",
    "    Dval=D[int(X.shape[0]*(1-test_size))-int(X.shape[0]*test_size):int(X.shape[0]*(1-test_size))]\n",
    "    Dtest=D[int(X.shape[0]*(1-test_size)):]\n",
    "    Xtrain=Dtrain[:,:-1]\n",
    "    Ytrain=Dtrain[:,-1]\n",
    "    Xval=Dval[:,:-1]\n",
    "    Yval=Dval[:,-1]\n",
    "    Xtest=Dtest[:,:-1]\n",
    "    Ytest=Dtest[:,-1]\n",
    "    return Xtrain,Xtest,Xval,Ytrain,Ytest,Yval\n",
    "#Val and test size will be same\n",
    "Xtrain,Xtest,Xval,Ytrain,Ytest,Yval=train_test_split(X,Y,test_size=0.15)\n",
    "print (Xtrain.shape,Xtest.shape,Xval.shape,Ytrain.shape,Ytest.shape,Yval.shape)"
   ]
  },
  {
   "cell_type": "markdown",
   "metadata": {},
   "source": [
    "## Building the tensorflow training model"
   ]
  },
  {
   "cell_type": "code",
   "execution_count": 22,
   "metadata": {
    "collapsed": true
   },
   "outputs": [],
   "source": [
    "def acc(a,b):\n",
    "    return np.mean(a==b)"
   ]
  },
  {
   "cell_type": "code",
   "execution_count": 23,
   "metadata": {
    "collapsed": true
   },
   "outputs": [],
   "source": [
    "def print_confusion_matrix(plabels,tlabels):\n",
    "    \"\"\"\n",
    "        functions print the confusion matrix for the different classes\n",
    "        to find the error...\n",
    "        \n",
    "        Input:\n",
    "        -----------\n",
    "        plabels: predicted labels for the classes...\n",
    "        tlabels: true labels for the classes\n",
    "        \n",
    "        code from: http://stackoverflow.com/questions/2148543/how-to-write-a-confusion-matrix-in-python\n",
    "    \"\"\"\n",
    "    import pandas as pd\n",
    "    plabels = pd.Series(np.squeeze(plabels))\n",
    "    tlabels = pd.Series(np.squeeze(tlabels))\n",
    "    \n",
    "    # draw a cross tabulation...\n",
    "    df_confusion = pd.crosstab(tlabels,plabels, rownames=['Actual'], colnames=['Predicted'], margins=True)\n",
    "    \n",
    "    #print df_confusion\n",
    "    return df_confusion     "
   ]
  },
  {
   "cell_type": "code",
   "execution_count": 24,
   "metadata": {
    "collapsed": true
   },
   "outputs": [],
   "source": [
    "weights=tf.Variable(w,dtype=tf.float32)\n",
    "x=tf.placeholder(dtype=tf.float32,shape=(None,X.shape[1]))\n",
    "target=tf.placeholder(dtype=tf.float32,shape=(None,1))\n",
    "b=tf.Variable(0,dtype=tf.float32)\n",
    "q_polynomial=tf.matmul(x,weights)+b\n",
    "loss=tf.reduce_mean(tf.nn.sigmoid_cross_entropy_with_logits(logits=q_polynomial, labels=target))\n",
    "learning_rate = 0.1\n",
    "batch_size = 1000\n",
    "iter_num = 1500\n",
    "optimizer=tf.train.AdamOptimizer(learning_rate)\n",
    "train_op=optimizer.minimize(loss)\n",
    "prediction = tf.round(tf.sigmoid(q_polynomial))\n",
    "init = tf.global_variables_initializer()"
   ]
  },
  {
   "cell_type": "markdown",
   "metadata": {},
   "source": [
    "### Checking Accuracy on the training set"
   ]
  },
  {
   "cell_type": "code",
   "execution_count": 25,
   "metadata": {},
   "outputs": [
    {
     "name": "stdout",
     "output_type": "stream",
     "text": [
      "Validation Accuracy: 0.6807142857142857\n"
     ]
    }
   ],
   "source": [
    "with tf.Session() as sess:\n",
    "    sess.run(init)\n",
    "    pred=sess.run(prediction,feed_dict={x:Xtrain,target:Ytrain.reshape(-1,1)}).flatten()\n",
    "print ('Validation Accuracy:',acc(pred,Ytrain))"
   ]
  },
  {
   "cell_type": "code",
   "execution_count": 26,
   "metadata": {},
   "outputs": [
    {
     "name": "stdout",
     "output_type": "stream",
     "text": [
      "Predicted  0.0  1.0   All\n",
      "Actual                   \n",
      "0.0        505  241   746\n",
      "1.0        488  266   754\n",
      "All        993  507  1500\n"
     ]
    }
   ],
   "source": [
    "print (print_confusion_matrix(pred, Yval))"
   ]
  },
  {
   "cell_type": "markdown",
   "metadata": {},
   "source": [
    "### Checking Accuracy on the validation set"
   ]
  },
  {
   "cell_type": "code",
   "execution_count": 27,
   "metadata": {},
   "outputs": [
    {
     "name": "stdout",
     "output_type": "stream",
     "text": [
      "Validation Accuracy: 0.48533333333333334\n"
     ]
    }
   ],
   "source": [
    "#Test Accuracy\n",
    "with tf.Session() as sess:\n",
    "    sess.run(init)\n",
    "    pred=sess.run(prediction,feed_dict={x:Xval,target:Yval.reshape(-1,1)}).flatten()\n",
    "print ('Validation Accuracy:',acc(pred,Yval))"
   ]
  },
  {
   "cell_type": "code",
   "execution_count": 28,
   "metadata": {},
   "outputs": [
    {
     "name": "stdout",
     "output_type": "stream",
     "text": [
      "Predicted  0.0  1.0   All\n",
      "Actual                   \n",
      "0.0        482  264   746\n",
      "1.0        508  246   754\n",
      "All        990  510  1500\n"
     ]
    }
   ],
   "source": [
    "print (print_confusion_matrix(pred, Yval))"
   ]
  },
  {
   "cell_type": "markdown",
   "metadata": {},
   "source": [
    "### Checking accuracy on test set"
   ]
  },
  {
   "cell_type": "code",
   "execution_count": 29,
   "metadata": {},
   "outputs": [
    {
     "name": "stdout",
     "output_type": "stream",
     "text": [
      "Validation Accuracy: 0.4806666666666667\n"
     ]
    }
   ],
   "source": [
    "with tf.Session() as sess:\n",
    "    sess.run(init)\n",
    "    pred=sess.run(prediction,feed_dict={x:Xtest,target:Ytest.reshape(-1,1)}).flatten()\n",
    "print ('Validation Accuracy:',acc(pred,Ytest))"
   ]
  },
  {
   "cell_type": "code",
   "execution_count": 30,
   "metadata": {},
   "outputs": [
    {
     "name": "stdout",
     "output_type": "stream",
     "text": [
      "Predicted  0.0  1.0   All\n",
      "Actual                   \n",
      "0.0        475  285   760\n",
      "1.0        494  246   740\n",
      "All        969  531  1500\n"
     ]
    }
   ],
   "source": [
    "print (print_confusion_matrix(pred, Ytest))"
   ]
  }
 ],
 "metadata": {
  "kernelspec": {
   "display_name": "Python 3",
   "language": "python",
   "name": "python3"
  },
  "language_info": {
   "codemirror_mode": {
    "name": "ipython",
    "version": 3
   },
   "file_extension": ".py",
   "mimetype": "text/x-python",
   "name": "python",
   "nbconvert_exporter": "python",
   "pygments_lexer": "ipython3",
   "version": "3.6.3"
  }
 },
 "nbformat": 4,
 "nbformat_minor": 2
}
